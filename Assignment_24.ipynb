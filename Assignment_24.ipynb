{
 "cells": [
  {
   "cell_type": "markdown",
   "id": "7959f89a",
   "metadata": {},
   "source": [
    "# Assignment_24"
   ]
  },
  {
   "cell_type": "markdown",
   "id": "4fcc2bcc",
   "metadata": {},
   "source": [
    "\n",
    "\n",
    "\n",
    "\n",
    "\n",
    "\n",
    "\n",
    "\n"
   ]
  },
  {
   "cell_type": "markdown",
   "id": "8d94cd49",
   "metadata": {},
   "source": [
    "# 1. What is the relationship between def statements and lambda expressions ?"
   ]
  },
  {
   "cell_type": "markdown",
   "id": "3ac36bd9",
   "metadata": {},
   "source": [
    "Like def, the lambda creates a function to be called later. But it returns the function instead of assigning it to a name. This is why lambdas are sometimes known as anonymous functions."
   ]
  },
  {
   "cell_type": "markdown",
   "id": "f1b8a2de",
   "metadata": {},
   "source": [
    "# 2. What is the benefit of lambda?"
   ]
  },
  {
   "cell_type": "markdown",
   "id": "ba62a2e9",
   "metadata": {},
   "source": [
    "The lambda keyword in Python provides a shortcut for declaring small anonymous functions. Lambda functions behave just like regular functions declared with the def keyword. They can be used whenever function objects are required.\n",
    "The code is simple and clear.\n",
    "No additional variables are added."
   ]
  },
  {
   "cell_type": "markdown",
   "id": "83ff1f0f",
   "metadata": {},
   "source": [
    "# 3. Compare and contrast map, filter, and reduce."
   ]
  },
  {
   "cell_type": "markdown",
   "id": "e9f04938",
   "metadata": {},
   "source": [
    "All three functions take function to apply on iterator and iterator as input.\n",
    "  ---  MAP applies function to each element of iterator and collects result. ---  FILTER applies function to each element of iterator and collect those elements for which function returns true. For this function need to return boolean value.---   REDUCE applies rolling computation to sequential pair of elements in iterator. Initially it takes two elements from iterator in sequence, applies function, collect result, then take next element in sequence from iterator, applies function and repeat this untill list has single value.-------If you want to apply function to each element of iterator then use MAP.----If you want to filter elements of iterator by some condition then use FILTER.----If you do some computation like addition, product on iterator's elements and want single value in output then use REDUCE."
   ]
  },
  {
   "cell_type": "markdown",
   "id": "4d3cbb9c",
   "metadata": {},
   "source": [
    "# 4. What are function annotations, and how are they used?"
   ]
  },
  {
   "cell_type": "markdown",
   "id": "6b7e1278",
   "metadata": {},
   "source": [
    "Function annotations are arbitrary python expressions that are associated with various part of functions. These expressions are evaluated at compile time and have no life in python’s runtime environment. Python does not attach any meaning to these annotations. They take life when interpreted by third party libraries, for example, mypy."
   ]
  },
  {
   "cell_type": "markdown",
   "id": "e19f5e87",
   "metadata": {},
   "source": [
    "# 5. What are recursive functions, and how are they used?"
   ]
  },
  {
   "cell_type": "markdown",
   "id": "02521aaf",
   "metadata": {},
   "source": [
    "A function that calls itself is a recursive function. This method is used when a certain problem is defined in terms of itself. Although this involves iteration, using an iterative approach to solve such a problem can be tedious. The recursive approach provides a very concise solution to a seemingly complex problem. It looks glamorous but can be difficult to comprehend!"
   ]
  },
  {
   "cell_type": "markdown",
   "id": "a25a0ba0",
   "metadata": {},
   "source": [
    "# 6. What are some general design guidelines for coding functions?"
   ]
  },
  {
   "cell_type": "markdown",
   "id": "7abb8db9",
   "metadata": {},
   "source": [
    "Some of the coding standards are given below:\n",
    "\n",
    "Limited use of globals:\n",
    "These rules tell about which types of data that can be declared global and the data that can’t be.\n",
    "\n",
    "\n",
    "\n",
    "Standard headers for different modules:\n",
    "For better understanding and maintenance of the code, the header of different modules should follow some standard format and information. The header format must contain below things that is being used in various companies:\n",
    "Name of the module\n",
    "Date of module creation\n",
    "Author of the module\n",
    "Modification history\n",
    "Synopsis of the module about what the module does\n",
    "Different functions supported in the module along with their input output parameters\n",
    "Global variables accessed or modified by the module\n",
    "\n",
    "\n",
    "Naming conventions for local variables, global variables, constants and functions:\n",
    "Some of the naming conventions are given below:\n",
    "Meaningful and understandable variables name helps anyone to understand the reason of using it.\n",
    "Local variables should be named using camel case lettering starting with small letter (e.g. localData) whereas Global variables names should start with a capital letter (e.g. GlobalData). Constant names should be formed using capital letters only (e.g. CONSDATA).\n",
    "It is better to avoid the use of digits in variable names.\n",
    "The names of the function should be written in camel case starting with small letters.\n",
    "The name of the function must describe the reason of using the function clearly and briefly.\n",
    "\n",
    "\n",
    "Indentation:\n",
    "Proper indentation is very important to increase the readability of the code. For making the code readable, programmers should use White spaces properly. Some of the spacing conventions are given below:\n",
    "There must be a space after giving a comma between two function arguments.\n",
    "Each nested block should be properly indented and spaced.\n",
    "Proper Indentation should be there at the beginning and at the end of each block in the program.\n",
    "All braces should start from a new line and the code following the end of braces also start from a new line.\n",
    "\n",
    "\n",
    "Error return values and exception handling conventions:\n",
    "All functions that encountering an error condition should either return a 0 or 1 for simplifying the debugging.\n",
    "\n",
    "On the other hand, Coding guidelines give some general suggestions regarding the coding style that to be followed for the betterment of understandability and readability of the code. Some of the coding guidelines are given below :\n",
    "\n",
    "\n",
    "\n",
    "Avoid using a coding style that is too difficult to understand:\n",
    "Code should be easily understandable. The complex code makes maintenance and debugging difficult and expensive.\n",
    "\n",
    "\n",
    "Avoid using an identifier for multiple purposes:\n",
    "Each variable should be given a descriptive and meaningful name indicating the reason behind using it. This is not possible if an identifier is used for multiple purposes and thus it can lead to confusion to the reader. Moreover, it leads to more difficulty during future enhancements.\n",
    "\n",
    "\n",
    "Code should be well documented:\n",
    "The code should be properly commented for understanding easily. Comments regarding the statements increase the understandability of the code.\n",
    "\n",
    "\n",
    "Length of functions should not be very large:\n",
    "Lengthy functions are very difficult to understand. That’s why functions should be small enough to carry out small work and lengthy functions should be broken into small ones for completing small tasks.\n",
    "\n",
    "\n",
    "Try not to use GOTO statement:\n",
    "GOTO statement makes the program unstructured, thus it reduces the understandability of the program and also debugging becomes difficult.\n"
   ]
  },
  {
   "cell_type": "markdown",
   "id": "9472152b",
   "metadata": {},
   "source": [
    "# 7. Name three or more ways that functions can communicate results to a caller."
   ]
  },
  {
   "cell_type": "markdown",
   "id": "c69da355",
   "metadata": {},
   "source": [
    "Pass By Value,Pass by reference,Pass by Result ,Pass by Value-Result, Pass by name "
   ]
  }
 ],
 "metadata": {
  "kernelspec": {
   "display_name": "Python 3",
   "language": "python",
   "name": "python3"
  },
  "language_info": {
   "codemirror_mode": {
    "name": "ipython",
    "version": 3
   },
   "file_extension": ".py",
   "mimetype": "text/x-python",
   "name": "python",
   "nbconvert_exporter": "python",
   "pygments_lexer": "ipython3",
   "version": "3.8.8"
  }
 },
 "nbformat": 4,
 "nbformat_minor": 5
}
