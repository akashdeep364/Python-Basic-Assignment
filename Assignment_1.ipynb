{
 "cells": [
  {
   "cell_type": "markdown",
   "id": "8da3fa40",
   "metadata": {},
   "source": [
    "# Assignment_1"
   ]
  },
  {
   "cell_type": "markdown",
   "id": "46113fa7",
   "metadata": {},
   "source": [
    "# 1. In the below elements which of them are values or an expression? eg:- values can be integer or string and expressions will be mathematical operators.\n",
    "* \n",
    "'hello'-->values\n",
    "-87.8---->values\n",
    "6-------->values\n",
    "\n",
    "- ------->expression\n",
    "/ ------->expression\n",
    "+ ------->expression\t\n",
    " \n"
   ]
  },
  {
   "cell_type": "markdown",
   "id": "b21472e8",
   "metadata": {},
   "source": [
    "# 2. What is the difference between string and variable?\n",
    "\n",
    "a)A string is a literal text string, i.e. 'Hello'.\n",
    "whereas\n",
    "A variable is something that stores data - it can store a string, int, float, class, etc.\n",
    "\n",
    "b)All strings are variables, but not all variables are strings.\n",
    "\n",
    "c)Variables in programs are references to values that have types. String is simply one of the handful of types that Python uses along with various number types, collection types (list, string , tuple, dict, and set), objects and a few more.\n",
    "\n",
    "d)A variable can hold a string, but a string can't hold a variable.\n",
    "\n",
    "e)A variable is basically the name of the location in the primary memory of your computer. This can be chosen by you. A variable can store everything from strings to numbers.\n",
    " whereas\n",
    "A string is the values inside the quotes assigned to a string.\n",
    "\n",
    "f)In python anything you assign to a variable using quotes (single or double) will be considered as a string. Thus, a string is one of several types of a variable.\n",
    "\n",
    "a = \"10\" \n",
    "b = \"20\" \n",
    "print(a+b)  #prints 1020 \n",
    " \n",
    "a = 10 \n",
    "b = 20 \n",
    "print(a+b)  #prints 30 \n",
    "So, in the above example, (a+b) returns 1020 in the first case (string concatenation of 10 and 20), whereas in the second case, it returns 30 since it interprets a and b as integers at run-time. \n",
    "\n",
    "g)The string is 'spam'; the variable is spam. Strings always start and end with quotes."
   ]
  },
  {
   "cell_type": "markdown",
   "id": "5019155c",
   "metadata": {},
   "source": [
    "3. Describe three different data types.\n",
    "\n",
    "\n",
    "a)List is a collection which is ordered and changeable. Allows duplicate members.\n",
    "ex:-mylist = [\"apple\", \"banana\", \"cherry\"]\n",
    "\n",
    "b)Tuple is a collection which is ordered and unchangeable. Allows duplicate members.\n",
    "ex:-tuple1 = (\"abc\", 34, True, 40, \"male\")\n",
    "\n",
    "c)Set is a collection which is unordered and unindexed. No duplicate members.\n",
    "ex:-myset = {\"apple\", \"banana\", \"cherry\"}\n",
    "\n",
    "d)Dictionary is a collection which is ordered* and changeable. No duplicate members.\n",
    "ex:-thisdict = {\n",
    "  \"brand\": \"Ford\",\n",
    "  \"model\": \"Mustang\",\n",
    "  \"year\": 1964\n",
    "}\n",
    "\n",
    "\n"
   ]
  },
  {
   "cell_type": "markdown",
   "id": "733fd8bc",
   "metadata": {},
   "source": [
    "# 4. What is an expression made up of? What do all expressions do?\n",
    "\n",
    "An expression is a combination of values and operators. All expressions evaluate (that is, reduce) to a single value.\n",
    "    "
   ]
  },
  {
   "cell_type": "markdown",
   "id": "07802533",
   "metadata": {},
   "source": [
    "# 5. This assignment statements, like spam = 10. What is the difference between an expression and a statement?\n",
    "\n",
    "a)An expression evaluates to a single value. A statement does not.\n",
    "\n",
    "b)Statements represent an action or command e.g print statements, assignment statements.\n",
    "\n",
    "print 'hello', x = 1, spam = 10.\n",
    "\n",
    "whereas\n",
    "\n",
    "Expression is a combination of variables, operations and values that yields a result value.\n",
    "\n",
    "5 * 5 # yields 25"
   ]
  },
  {
   "cell_type": "markdown",
   "id": "7ec147b3",
   "metadata": {},
   "source": [
    "# 6. After running the following code, what does the variable bacon contain?\n",
    "bacon = 22\n",
    "bacon + 1\n"
   ]
  },
  {
   "cell_type": "code",
   "execution_count": 4,
   "id": "14f62b84",
   "metadata": {},
   "outputs": [],
   "source": [
    "bacon = 22\n"
   ]
  },
  {
   "cell_type": "code",
   "execution_count": 5,
   "id": "39fabce3",
   "metadata": {},
   "outputs": [
    {
     "data": {
      "text/plain": [
       "23"
      ]
     },
     "execution_count": 5,
     "metadata": {},
     "output_type": "execute_result"
    }
   ],
   "source": [
    "bacon + 1"
   ]
  },
  {
   "cell_type": "code",
   "execution_count": 6,
   "id": "db15ebfb",
   "metadata": {},
   "outputs": [
    {
     "data": {
      "text/plain": [
       "22"
      ]
     },
     "execution_count": 6,
     "metadata": {},
     "output_type": "execute_result"
    }
   ],
   "source": [
    "bacon"
   ]
  },
  {
   "cell_type": "markdown",
   "id": "b8ee022b",
   "metadata": {},
   "source": [
    "The bacon variable is set to 20. The bacon + 1 expression does not reassign the value in bacon (that would need an assignment statement: bacon = bacon + 1)."
   ]
  },
  {
   "cell_type": "markdown",
   "id": "ed32a805",
   "metadata": {},
   "source": [
    "# 7. What should the values of the following two terms be?\n",
    "'spam' + 'spamspam'\n",
    "'spam' * 3\n"
   ]
  },
  {
   "cell_type": "code",
   "execution_count": 2,
   "id": "69f62cf6",
   "metadata": {},
   "outputs": [
    {
     "data": {
      "text/plain": [
       "'spamspamspam'"
      ]
     },
     "execution_count": 2,
     "metadata": {},
     "output_type": "execute_result"
    }
   ],
   "source": [
    "'spam' + 'spamspam'\n"
   ]
  },
  {
   "cell_type": "code",
   "execution_count": 3,
   "id": "03ae0adc",
   "metadata": {},
   "outputs": [
    {
     "data": {
      "text/plain": [
       "'spamspamspam'"
      ]
     },
     "execution_count": 3,
     "metadata": {},
     "output_type": "execute_result"
    }
   ],
   "source": [
    "'spam' * 3"
   ]
  },
  {
   "cell_type": "markdown",
   "id": "d3a40ee2",
   "metadata": {},
   "source": [
    "Both expressions evaluate to the string 'spamspamspam'."
   ]
  },
  {
   "cell_type": "markdown",
   "id": "1eaffbdc",
   "metadata": {},
   "source": [
    "# 8. Why is eggs a valid variable name while 100 is invalid?"
   ]
  },
  {
   "cell_type": "markdown",
   "id": "1df4af8e",
   "metadata": {},
   "source": [
    "Variable names cannot begin with a number."
   ]
  },
  {
   "cell_type": "markdown",
   "id": "10356c98",
   "metadata": {},
   "source": [
    "# 9. What three functions can be used to get the integer, floating-point number, or string version of a value?"
   ]
  },
  {
   "cell_type": "markdown",
   "id": "d24fa319",
   "metadata": {},
   "source": [
    "The int(), float(), and str() functions will evaluate to the integer, floating-point number, and string versions of the value passed to them."
   ]
  },
  {
   "cell_type": "markdown",
   "id": "97c73d8c",
   "metadata": {},
   "source": [
    "# 10. Why does this expression cause an error? How can you fix it?\n",
    "'I have eaten ' + 99 + ' burritos.'\n"
   ]
  },
  {
   "cell_type": "markdown",
   "id": "cde55224",
   "metadata": {},
   "source": [
    "The expression causes an error because 99 is an integer, and only strings can be concatenated to other strings with the + operator. The correct way is I have eaten ' + str(99) + ' burritos.'."
   ]
  },
  {
   "cell_type": "code",
   "execution_count": null,
   "id": "331864dc",
   "metadata": {},
   "outputs": [],
   "source": []
  }
 ],
 "metadata": {
  "kernelspec": {
   "display_name": "Python 3",
   "language": "python",
   "name": "python3"
  },
  "language_info": {
   "codemirror_mode": {
    "name": "ipython",
    "version": 3
   },
   "file_extension": ".py",
   "mimetype": "text/x-python",
   "name": "python",
   "nbconvert_exporter": "python",
   "pygments_lexer": "ipython3",
   "version": "3.8.8"
  }
 },
 "nbformat": 4,
 "nbformat_minor": 5
}
