{
 "cells": [
  {
   "cell_type": "markdown",
   "id": "c24e5410",
   "metadata": {},
   "source": [
    "# Assignment_16"
   ]
  },
  {
   "cell_type": "markdown",
   "id": "0981a124",
   "metadata": {},
   "source": [
    "# 1. Create a list called years_list, starting with the year of your birth, and each year thereafter until the year of your fifth birthday. For example, if you were born in 1980. the list would be years_list = [1980, 1981, 1982, 1983, 1984, 1985]."
   ]
  },
  {
   "cell_type": "code",
   "execution_count": 1,
   "id": "bd60563a",
   "metadata": {},
   "outputs": [],
   "source": [
    "years_list = [1980, 1981, 1982, 1983, 1984, 1985]"
   ]
  },
  {
   "cell_type": "code",
   "execution_count": 2,
   "id": "f175f4e2",
   "metadata": {},
   "outputs": [
    {
     "data": {
      "text/plain": [
       "[1980, 1981, 1982, 1983, 1984, 1985]"
      ]
     },
     "execution_count": 2,
     "metadata": {},
     "output_type": "execute_result"
    }
   ],
   "source": [
    "years_list"
   ]
  },
  {
   "cell_type": "markdown",
   "id": "79231d14",
   "metadata": {},
   "source": [
    "# 2. In which year in years_list was your third birthday? Remember, you were 0 years of age for your first year."
   ]
  },
  {
   "cell_type": "code",
   "execution_count": 3,
   "id": "ee7c5fc2",
   "metadata": {},
   "outputs": [
    {
     "data": {
      "text/plain": [
       "1983"
      ]
     },
     "execution_count": 3,
     "metadata": {},
     "output_type": "execute_result"
    }
   ],
   "source": [
    "years_list[3]"
   ]
  },
  {
   "cell_type": "markdown",
   "id": "fccbc7e3",
   "metadata": {},
   "source": [
    "# 3.In the years list, which year were you the oldest?"
   ]
  },
  {
   "cell_type": "code",
   "execution_count": 4,
   "id": "015d7e1a",
   "metadata": {},
   "outputs": [
    {
     "data": {
      "text/plain": [
       "1985"
      ]
     },
     "execution_count": 4,
     "metadata": {},
     "output_type": "execute_result"
    }
   ],
   "source": [
    "years_list[-1]"
   ]
  },
  {
   "cell_type": "markdown",
   "id": "353caaa1",
   "metadata": {},
   "source": [
    "# 4. Make a list called things with these three strings as elements: \"mozzarella\", \"cinderella\", \"salmonella\"."
   ]
  },
  {
   "cell_type": "code",
   "execution_count": 5,
   "id": "94f6bcb1",
   "metadata": {},
   "outputs": [],
   "source": [
    "things = [\"mozzarella\", \"cinderella\", \"salmonella\"]"
   ]
  },
  {
   "cell_type": "code",
   "execution_count": 6,
   "id": "2fba2c3a",
   "metadata": {},
   "outputs": [
    {
     "data": {
      "text/plain": [
       "['mozzarella', 'cinderella', 'salmonella']"
      ]
     },
     "execution_count": 6,
     "metadata": {},
     "output_type": "execute_result"
    }
   ],
   "source": [
    "things"
   ]
  },
  {
   "cell_type": "markdown",
   "id": "d80667dc",
   "metadata": {},
   "source": [
    "# 5. Capitalize the element in things that refers to a person and then print the list. Did it change the element in the list?"
   ]
  },
  {
   "cell_type": "code",
   "execution_count": 7,
   "id": "8e58aadf",
   "metadata": {},
   "outputs": [
    {
     "data": {
      "text/plain": [
       "'Cinderella'"
      ]
     },
     "execution_count": 7,
     "metadata": {},
     "output_type": "execute_result"
    }
   ],
   "source": [
    "things[1].capitalize()"
   ]
  },
  {
   "cell_type": "markdown",
   "id": "c211c6c1",
   "metadata": {},
   "source": [
    "# 6. Make a surprise list with the elements \"Groucho,\" \"Chico,\" and \"Harpo.\""
   ]
  },
  {
   "cell_type": "code",
   "execution_count": 8,
   "id": "74b73d1f",
   "metadata": {},
   "outputs": [],
   "source": [
    "surprise = ['Groucho', 'Chico', 'Harpo']"
   ]
  },
  {
   "cell_type": "code",
   "execution_count": 9,
   "id": "20e4eb43",
   "metadata": {},
   "outputs": [
    {
     "data": {
      "text/plain": [
       "['Groucho', 'Chico', 'Harpo']"
      ]
     },
     "execution_count": 9,
     "metadata": {},
     "output_type": "execute_result"
    }
   ],
   "source": [
    "surprise"
   ]
  },
  {
   "cell_type": "markdown",
   "id": "e564bdec",
   "metadata": {},
   "source": [
    "# 7. Lowercase the last element of the surprise list, reverse it, and then capitalize it."
   ]
  },
  {
   "cell_type": "code",
   "execution_count": 10,
   "id": "d8a749ce",
   "metadata": {},
   "outputs": [],
   "source": [
    "surprise[-1] = surprise[-1].lower()\n"
   ]
  },
  {
   "cell_type": "code",
   "execution_count": 11,
   "id": "67d1e7dd",
   "metadata": {},
   "outputs": [],
   "source": [
    "surprise[-1] = surprise[-1][::-1]"
   ]
  },
  {
   "cell_type": "code",
   "execution_count": 12,
   "id": "11147419",
   "metadata": {},
   "outputs": [
    {
     "data": {
      "text/plain": [
       "'Oprah'"
      ]
     },
     "execution_count": 12,
     "metadata": {},
     "output_type": "execute_result"
    }
   ],
   "source": [
    "surprise[-1].capitalize()"
   ]
  },
  {
   "cell_type": "markdown",
   "id": "4662db41",
   "metadata": {},
   "source": [
    "# 8. Make an English-to-French dictionary called e2f and print it. Here are your starter words: dog is chien, cat is chat, and walrus is morse."
   ]
  },
  {
   "cell_type": "code",
   "execution_count": 13,
   "id": "ba13662a",
   "metadata": {},
   "outputs": [],
   "source": [
    "e2f = {'dog': 'chien', 'cat': 'chat', 'walrus': 'morse'}"
   ]
  },
  {
   "cell_type": "code",
   "execution_count": 14,
   "id": "c99c615f",
   "metadata": {},
   "outputs": [
    {
     "data": {
      "text/plain": [
       "{'dog': 'chien', 'cat': 'chat', 'walrus': 'morse'}"
      ]
     },
     "execution_count": 14,
     "metadata": {},
     "output_type": "execute_result"
    }
   ],
   "source": [
    "e2f "
   ]
  },
  {
   "cell_type": "markdown",
   "id": "8034bc75",
   "metadata": {},
   "source": [
    "# 9. Write the French word for walrus in your three-word dictionary e2f."
   ]
  },
  {
   "cell_type": "code",
   "execution_count": 15,
   "id": "0c5cd64a",
   "metadata": {},
   "outputs": [
    {
     "data": {
      "text/plain": [
       "'morse'"
      ]
     },
     "execution_count": 15,
     "metadata": {},
     "output_type": "execute_result"
    }
   ],
   "source": [
    "e2f['walrus']"
   ]
  },
  {
   "cell_type": "markdown",
   "id": "8ee022a2",
   "metadata": {},
   "source": [
    "# 10. Make a French-to-English dictionary called f2e from e2f. Use the items method."
   ]
  },
  {
   "cell_type": "code",
   "execution_count": 16,
   "id": "abe5201e",
   "metadata": {},
   "outputs": [],
   "source": [
    "f2e = {}"
   ]
  },
  {
   "cell_type": "code",
   "execution_count": 17,
   "id": "9d5229f9",
   "metadata": {},
   "outputs": [],
   "source": [
    "for english, french in e2f.items():\n",
    "    f2e[french] = english"
   ]
  },
  {
   "cell_type": "code",
   "execution_count": 18,
   "id": "0f7b156b",
   "metadata": {},
   "outputs": [
    {
     "data": {
      "text/plain": [
       "{'chien': 'dog', 'chat': 'cat', 'morse': 'walrus'}"
      ]
     },
     "execution_count": 18,
     "metadata": {},
     "output_type": "execute_result"
    }
   ],
   "source": [
    "f2e"
   ]
  },
  {
   "cell_type": "markdown",
   "id": "6fa9e26a",
   "metadata": {},
   "source": [
    "# 11. Print the English version of the French word chien using f2e."
   ]
  },
  {
   "cell_type": "code",
   "execution_count": 19,
   "id": "d1bac4e0",
   "metadata": {},
   "outputs": [
    {
     "data": {
      "text/plain": [
       "'dog'"
      ]
     },
     "execution_count": 19,
     "metadata": {},
     "output_type": "execute_result"
    }
   ],
   "source": [
    "f2e['chien']"
   ]
  },
  {
   "cell_type": "markdown",
   "id": "0ee053dc",
   "metadata": {},
   "source": [
    "# 12. Make and print a set of English words from the keys in e2f."
   ]
  },
  {
   "cell_type": "code",
   "execution_count": 20,
   "id": "399c786c",
   "metadata": {},
   "outputs": [
    {
     "data": {
      "text/plain": [
       "{'cat', 'dog', 'walrus'}"
      ]
     },
     "execution_count": 20,
     "metadata": {},
     "output_type": "execute_result"
    }
   ],
   "source": [
    "set(e2f.keys())"
   ]
  },
  {
   "cell_type": "markdown",
   "id": "e75643cc",
   "metadata": {},
   "source": [
    "# 13. Make a multilevel dictionary called life. Use these strings for the topmost keys: 'animals', 'plants', and 'other'. Make the 'animals' key refer to another dictionary with the keys 'cats', 'octopi', and 'emus'. Make the 'cats' key refer to a list of strings with the values 'Henri', 'Grumpy', and 'Lucy'. Make all the other keys refer to empty dictionaries."
   ]
  },
  {
   "cell_type": "code",
   "execution_count": 28,
   "id": "d8ea14fb",
   "metadata": {},
   "outputs": [],
   "source": [
    "life = {\n",
    "        'animals': {\n",
    "            'cats': [\n",
    "                'Henri', 'Grumpy', 'Lucy'\n",
    "                ],\n",
    "            'octopi': {},\n",
    "            'emus': {}\n",
    "            },\n",
    "        'plants': {},\n",
    "        'other': {}\n",
    "        }"
   ]
  },
  {
   "cell_type": "code",
   "execution_count": 22,
   "id": "0b8e6f8e",
   "metadata": {},
   "outputs": [
    {
     "data": {
      "text/plain": [
       "{'animals': {'cats': ['Henri', 'Grumpy', 'Lucy'], 'octopi': {}, 'emus': {}},\n",
       " 'plants': {},\n",
       " 'other': {}}"
      ]
     },
     "execution_count": 22,
     "metadata": {},
     "output_type": "execute_result"
    }
   ],
   "source": [
    "life"
   ]
  },
  {
   "cell_type": "markdown",
   "id": "bb05dd0e",
   "metadata": {},
   "source": [
    "# 14. Print the top-level keys of life."
   ]
  },
  {
   "cell_type": "code",
   "execution_count": 23,
   "id": "08b615c0",
   "metadata": {},
   "outputs": [
    {
     "name": "stdout",
     "output_type": "stream",
     "text": [
      "dict_keys(['animals', 'plants', 'other'])\n"
     ]
    }
   ],
   "source": [
    "print(life.keys())"
   ]
  },
  {
   "cell_type": "code",
   "execution_count": 25,
   "id": "4c68f1e2",
   "metadata": {},
   "outputs": [
    {
     "name": "stdout",
     "output_type": "stream",
     "text": [
      "['animals', 'plants', 'other']\n"
     ]
    }
   ],
   "source": [
    "print(list(life.keys()))"
   ]
  },
  {
   "cell_type": "markdown",
   "id": "f80a76de",
   "metadata": {},
   "source": [
    "# 15. Print the keys for life['animals']."
   ]
  },
  {
   "cell_type": "code",
   "execution_count": 26,
   "id": "f31ddd59",
   "metadata": {},
   "outputs": [
    {
     "name": "stdout",
     "output_type": "stream",
     "text": [
      "dict_keys(['cats', 'octopi', 'emus'])\n"
     ]
    }
   ],
   "source": [
    "print(life['animals'].keys())"
   ]
  },
  {
   "cell_type": "markdown",
   "id": "eed93691",
   "metadata": {},
   "source": [
    "# 16. Print the values for life['animals']['cats']"
   ]
  },
  {
   "cell_type": "code",
   "execution_count": 27,
   "id": "db332221",
   "metadata": {},
   "outputs": [
    {
     "name": "stdout",
     "output_type": "stream",
     "text": [
      "['Henri', 'Grumpy', 'Lucy']\n"
     ]
    }
   ],
   "source": [
    "print(life['animals']['cats'])"
   ]
  }
 ],
 "metadata": {
  "kernelspec": {
   "display_name": "Python 3",
   "language": "python",
   "name": "python3"
  },
  "language_info": {
   "codemirror_mode": {
    "name": "ipython",
    "version": 3
   },
   "file_extension": ".py",
   "mimetype": "text/x-python",
   "name": "python",
   "nbconvert_exporter": "python",
   "pygments_lexer": "ipython3",
   "version": "3.8.8"
  }
 },
 "nbformat": 4,
 "nbformat_minor": 5
}
