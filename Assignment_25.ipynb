{
 "cells": [
  {
   "cell_type": "markdown",
   "id": "24287750",
   "metadata": {},
   "source": [
    "# Assignment_25"
   ]
  },
  {
   "cell_type": "markdown",
   "id": "2ba4bc63",
   "metadata": {},
   "source": [
    "# 1)What is the difference between enclosing a list comprehension in square brackets and parentheses?"
   ]
  },
  {
   "cell_type": "markdown",
   "id": "71f0378c",
   "metadata": {},
   "source": [
    "square brackets can describe a list comprehension, e.g. [x for x in y]\n",
    "\n",
    "Whereas the corresponding parenthetic syntax specifies a tuple generator: (x for x in y)\n",
    "\n",
    "You can get a tuple comprehension using: tuple(x for x in y)"
   ]
  },
  {
   "cell_type": "markdown",
   "id": "02842f22",
   "metadata": {},
   "source": [
    "# 2) What is the relationship between generators and iterators?"
   ]
  },
  {
   "cell_type": "markdown",
   "id": "ec4ba2fc",
   "metadata": {},
   "source": [
    "Iterator:-Class is used to implement an iterator. Local Variables aren’t used here.    Iterators are used mostly to iterate or convert other objects to an iterator using iter() function. Iterator uses iter() and next() functions. Every iterator is not a generator.\n",
    "\n",
    "\n",
    "Generator:-Function is used to implement a generator.  All the local variables before the yield function are stored. Generators are mostly used in loops to generate an iterator by returning all the values in the loop without affecting the iteration of the loop.  Generator uses yield keyword.  Every generator is an iterator."
   ]
  },
  {
   "cell_type": "markdown",
   "id": "d99620f8",
   "metadata": {},
   "source": [
    "# 3) What are the signs that a function is a generator function?"
   ]
  },
  {
   "cell_type": "markdown",
   "id": "b9160e0d",
   "metadata": {},
   "source": [
    "Generator function contains one or more yield statements.\n",
    "\n",
    "\n",
    "When called, it returns an object (iterator) but does not start execution immediately.\n",
    "\n",
    "Methods like __iter__() and __next__() are implemented automatically. So we can iterate through the items using next().\n",
    "\n",
    "Once the function yields, the function is paused and the control is transferred to the caller.\n",
    "\n",
    "Local variables and their states are remembered between successive calls.\n",
    "\n",
    "Finally, when the function terminates, StopIteration is raised automatically on further calls."
   ]
  },
  {
   "cell_type": "markdown",
   "id": "4c8f2e5d",
   "metadata": {},
   "source": [
    "# 4) What is the purpose of a yield statement?"
   ]
  },
  {
   "cell_type": "markdown",
   "id": "0196edb2",
   "metadata": {},
   "source": [
    "Yield is a keyword in Python that is used to return from a function without destroying the states of its local variable and when the function is called, the execution starts from the last yield statement. Any function that contains a yield keyword is termed a generator. Hence, yield is what makes a generator.\n",
    "\n",
    "Advantages of yield: \n",
    "\n",
    "Since it stores the local variable states, hence overhead of memory allocation is controlled.\n",
    "Since the old state is retained, the flow doesn’t start from the beginning and hence saves time.\n"
   ]
  },
  {
   "cell_type": "markdown",
   "id": "70821c68",
   "metadata": {},
   "source": [
    "# 5) What is the relationship between map calls and list comprehensions? Make a comparison and contrast between the two."
   ]
  },
  {
   "cell_type": "markdown",
   "id": "f0777e48",
   "metadata": {},
   "source": [
    "Map VS List Comprehension\n",
    "List comprehension is more concise and easier to read as compared to map.\n",
    "\n",
    "List comprehension allows filtering. In map, we have no such facility. For example, to print all even numbers in range of 100, we can write [n for n in range(100) if n%2 == 0]. There is no alternate for it in map.\n",
    "\n",
    "List comprehension are used when a list of results is required as map only returns a map object and does not return any list.\n",
    "\n",
    "List comprehension is faster than map when we need to evaluate expressions that are too long or complicated to express\n",
    "Map is faster in case of calling an already defined function (as no lambda is required)."
   ]
  }
 ],
 "metadata": {
  "kernelspec": {
   "display_name": "Python 3",
   "language": "python",
   "name": "python3"
  },
  "language_info": {
   "codemirror_mode": {
    "name": "ipython",
    "version": 3
   },
   "file_extension": ".py",
   "mimetype": "text/x-python",
   "name": "python",
   "nbconvert_exporter": "python",
   "pygments_lexer": "ipython3",
   "version": "3.8.8"
  }
 },
 "nbformat": 4,
 "nbformat_minor": 5
}
