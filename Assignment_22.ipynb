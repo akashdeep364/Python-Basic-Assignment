{
 "cells": [
  {
   "cell_type": "markdown",
   "id": "24f57f2f",
   "metadata": {},
   "source": [
    "# Assignment_22"
   ]
  },
  {
   "cell_type": "markdown",
   "id": "7e8ace2c",
   "metadata": {},
   "source": [
    "# 1. What is the result of the code, and explain?"
   ]
  },
  {
   "cell_type": "code",
   "execution_count": 1,
   "id": "af5580e7",
   "metadata": {},
   "outputs": [],
   "source": [
    "X = 'iNeuron'"
   ]
  },
  {
   "cell_type": "code",
   "execution_count": 2,
   "id": "6bf405b3",
   "metadata": {},
   "outputs": [],
   "source": [
    "def func():\n",
    "    print(X)"
   ]
  },
  {
   "cell_type": "code",
   "execution_count": 3,
   "id": "b25baa07",
   "metadata": {},
   "outputs": [
    {
     "name": "stdout",
     "output_type": "stream",
     "text": [
      "iNeuron\n"
     ]
    }
   ],
   "source": [
    "func()"
   ]
  },
  {
   "cell_type": "markdown",
   "id": "f4025fbf",
   "metadata": {},
   "source": [
    "Here when func() is called it will execute the statement written inside it which print the value of x whose value is assigned as 'ineuron'."
   ]
  },
  {
   "cell_type": "markdown",
   "id": "a0fd26fe",
   "metadata": {},
   "source": [
    "# 2. What is the result of the code, and explain?"
   ]
  },
  {
   "cell_type": "code",
   "execution_count": 4,
   "id": "449cf839",
   "metadata": {},
   "outputs": [],
   "source": [
    "X = 'iNeuron'"
   ]
  },
  {
   "cell_type": "code",
   "execution_count": 5,
   "id": "f0c1594d",
   "metadata": {},
   "outputs": [],
   "source": [
    "def func():\n",
    "    X = 'NI!'"
   ]
  },
  {
   "cell_type": "code",
   "execution_count": 6,
   "id": "983b81d9",
   "metadata": {},
   "outputs": [],
   "source": [
    "func()"
   ]
  },
  {
   "cell_type": "code",
   "execution_count": 7,
   "id": "67f35fb0",
   "metadata": {},
   "outputs": [
    {
     "name": "stdout",
     "output_type": "stream",
     "text": [
      "iNeuron\n"
     ]
    }
   ],
   "source": [
    "print(X)"
   ]
  },
  {
   "cell_type": "markdown",
   "id": "4c8be06f",
   "metadata": {},
   "source": [
    "Here when func() is called it will execute the statement written inside it which only initialize value of x='NI' but it doesnot return anything(None).So it comes out of the block and doesnot print anything.\n",
    "Again when print(x) is executed it prints the value of X = 'iNeuron'.\n"
   ]
  },
  {
   "cell_type": "markdown",
   "id": "cb2319ce",
   "metadata": {},
   "source": [
    "# 3. What does this code print, and why?"
   ]
  },
  {
   "cell_type": "code",
   "execution_count": 8,
   "id": "44a00931",
   "metadata": {},
   "outputs": [],
   "source": [
    "X = 'iNeuron'"
   ]
  },
  {
   "cell_type": "code",
   "execution_count": 33,
   "id": "b1d26670",
   "metadata": {},
   "outputs": [],
   "source": [
    "def func():\n",
    "    X = 'NI'\n",
    "    print(X)"
   ]
  },
  {
   "cell_type": "code",
   "execution_count": 34,
   "id": "1b91f2ab",
   "metadata": {},
   "outputs": [
    {
     "name": "stdout",
     "output_type": "stream",
     "text": [
      "NI\n"
     ]
    }
   ],
   "source": [
    "func()"
   ]
  },
  {
   "cell_type": "code",
   "execution_count": 35,
   "id": "97ed3038",
   "metadata": {},
   "outputs": [
    {
     "name": "stdout",
     "output_type": "stream",
     "text": [
      "iNeuron\n"
     ]
    }
   ],
   "source": [
    "print(X)\n"
   ]
  },
  {
   "cell_type": "markdown",
   "id": "fc76b4a3",
   "metadata": {},
   "source": [
    "Here when func() is called it will execute the statement written inside it which initialize value of x='NI' and subsequently print the value of X.The scope of  X = 'NI'is within the block func().\n",
    "But when a print statement i.e print(X) is executed it prints x value as iNeuron.(X is treated as global variable)"
   ]
  },
  {
   "cell_type": "markdown",
   "id": "a442b1f4",
   "metadata": {},
   "source": [
    "# 4. What output does this code produce? Why?"
   ]
  },
  {
   "cell_type": "code",
   "execution_count": 13,
   "id": "552942e0",
   "metadata": {},
   "outputs": [],
   "source": [
    "X = 'iNeuron'"
   ]
  },
  {
   "cell_type": "code",
   "execution_count": 14,
   "id": "009e0c10",
   "metadata": {},
   "outputs": [],
   "source": [
    "def func():\n",
    "    global X\n",
    "    X = 'NI'"
   ]
  },
  {
   "cell_type": "code",
   "execution_count": 15,
   "id": "706caa3d",
   "metadata": {},
   "outputs": [],
   "source": [
    "func()"
   ]
  },
  {
   "cell_type": "code",
   "execution_count": 16,
   "id": "9d7da629",
   "metadata": {},
   "outputs": [
    {
     "name": "stdout",
     "output_type": "stream",
     "text": [
      "NI\n"
     ]
    }
   ],
   "source": [
    "print(X)"
   ]
  },
  {
   "cell_type": "markdown",
   "id": "a8395598",
   "metadata": {},
   "source": [
    "Here in func() we have declared X as global variable hence it's previous value i.e 'iNeuron' is overrided and when print(x) is executed it prints latest updated value i.e 'NI'."
   ]
  },
  {
   "cell_type": "markdown",
   "id": "40272f08",
   "metadata": {},
   "source": [
    "# 5. What about this code—what’s the output, and why?"
   ]
  },
  {
   "cell_type": "code",
   "execution_count": 17,
   "id": "443a6b87",
   "metadata": {},
   "outputs": [
    {
     "name": "stdout",
     "output_type": "stream",
     "text": [
      "iNeuron\n"
     ]
    }
   ],
   "source": [
    "X = 'iNeuron'\n",
    "def func():\n",
    "    X = 'NI'\n",
    "def nested():\n",
    "    print(X)\n",
    "nested()"
   ]
  },
  {
   "cell_type": "code",
   "execution_count": 18,
   "id": "90c631b5",
   "metadata": {},
   "outputs": [],
   "source": [
    "func()"
   ]
  },
  {
   "cell_type": "code",
   "execution_count": 19,
   "id": "8e39ca87",
   "metadata": {},
   "outputs": [
    {
     "data": {
      "text/plain": [
       "'iNeuron'"
      ]
     },
     "execution_count": 19,
     "metadata": {},
     "output_type": "execute_result"
    }
   ],
   "source": [
    "X"
   ]
  },
  {
   "cell_type": "markdown",
   "id": "7d7501e7",
   "metadata": {},
   "source": [
    "Here when nested() is called it prints X = 'iNeuron'(Global variable).\n",
    "In func(), X = 'NI' the scope of X is within func() as it is a local variable."
   ]
  },
  {
   "cell_type": "markdown",
   "id": "2a8433ed",
   "metadata": {},
   "source": [
    "# 6. How about this code: what is its output in Python 3, and explain?"
   ]
  },
  {
   "cell_type": "code",
   "execution_count": 37,
   "id": "6e8695d8",
   "metadata": {},
   "outputs": [
    {
     "ename": "SyntaxError",
     "evalue": "no binding for nonlocal 'X' found (<ipython-input-37-c524855a0f03>, line 4)",
     "output_type": "error",
     "traceback": [
      "\u001b[1;36m  File \u001b[1;32m\"<ipython-input-37-c524855a0f03>\"\u001b[1;36m, line \u001b[1;32m4\u001b[0m\n\u001b[1;33m    nonlocal X\u001b[0m\n\u001b[1;37m    ^\u001b[0m\n\u001b[1;31mSyntaxError\u001b[0m\u001b[1;31m:\u001b[0m no binding for nonlocal 'X' found\n"
     ]
    }
   ],
   "source": [
    "def func():\n",
    "    X = 'NI'\n",
    "def nested():\n",
    "    nonlocal X\n",
    "    X = 'Spam'\n",
    "nested()\n",
    "print(X)"
   ]
  },
  {
   "cell_type": "code",
   "execution_count": 31,
   "id": "a88fdada",
   "metadata": {},
   "outputs": [],
   "source": [
    "func()"
   ]
  },
  {
   "cell_type": "markdown",
   "id": "9912a0b4",
   "metadata": {},
   "source": [
    "\n",
    "A variable if we want to access outside the block as well as within the block should be declared as global."
   ]
  }
 ],
 "metadata": {
  "kernelspec": {
   "display_name": "Python 3",
   "language": "python",
   "name": "python3"
  },
  "language_info": {
   "codemirror_mode": {
    "name": "ipython",
    "version": 3
   },
   "file_extension": ".py",
   "mimetype": "text/x-python",
   "name": "python",
   "nbconvert_exporter": "python",
   "pygments_lexer": "ipython3",
   "version": "3.8.8"
  }
 },
 "nbformat": 4,
 "nbformat_minor": 5
}
