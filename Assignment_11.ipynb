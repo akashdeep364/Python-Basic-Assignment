{
 "cells": [
  {
   "cell_type": "markdown",
   "id": "15b1f8eb",
   "metadata": {},
   "source": [
    "# Assignment_11"
   ]
  },
  {
   "cell_type": "markdown",
   "id": "a7c9fbc0",
   "metadata": {},
   "source": [
    "# 1. Create an assert statement that throws an AssertionError if the variable spam is a negative integer.\n"
   ]
  },
  {
   "cell_type": "markdown",
   "id": "f99c9ef7",
   "metadata": {},
   "source": [
    "assert spam >0\n"
   ]
  },
  {
   "cell_type": "markdown",
   "id": "9aba8645",
   "metadata": {},
   "source": [
    "# 2. Write an assert statement that triggers an AssertionError if the variables eggs and bacon contain strings that are the same as each other, even if their cases are different (that is, 'hello' and 'hello' are considered the same, and 'goodbye' and 'GOODbye' are also considered the same).\n"
   ]
  },
  {
   "cell_type": "markdown",
   "id": "79a54bd8",
   "metadata": {},
   "source": [
    "Either assert eggs.lower() != bacon.lower() 'The eggs and bacon variables are the same!' \n",
    "or assert eggs.upper() != bacon.upper(), 'The eggs and bacon variables are the same!'\n"
   ]
  },
  {
   "cell_type": "markdown",
   "id": "d933fb3a",
   "metadata": {},
   "source": [
    "# 3. Create an assert statement that throws an AssertionError every time.\n"
   ]
  },
  {
   "cell_type": "markdown",
   "id": "6e3f6132",
   "metadata": {},
   "source": [
    "assert False, 'This assertion always triggers.'"
   ]
  },
  {
   "cell_type": "markdown",
   "id": "897758a2",
   "metadata": {},
   "source": [
    "# 4. What are the two lines that must be present in your software in order to call logging.debug()?\n"
   ]
  },
  {
   "cell_type": "markdown",
   "id": "f34b134e",
   "metadata": {},
   "source": [
    " To be able to call logging.debug(), you must have these two lines at the start of your program:\n",
    "\n",
    "import logging\n",
    "logging.basicConfig(level=logging.DEBUG, format=' %(asctime)s -\n",
    "%(levelname)s -  %(message)s')"
   ]
  },
  {
   "cell_type": "markdown",
   "id": "8dab0e4d",
   "metadata": {},
   "source": [
    "# 5. What are the two lines that your program must have in order to have logging.debug() send a logging message to a file named programLog.txt?\n"
   ]
  },
  {
   "cell_type": "markdown",
   "id": "75e82b1f",
   "metadata": {},
   "source": [
    "To be able to send logging messages to a file named programLog.txt with logging.debug(), you must have these two lines at the start of your program:\n",
    "\n",
    "import logging\n",
    ">>> logging.basicConfig(filename='programLog.txt', level=logging.DEBUG,\n",
    "format=' %(asctime)s -  %(levelname)s -  %(message)s')"
   ]
  },
  {
   "cell_type": "markdown",
   "id": "58a5ad64",
   "metadata": {},
   "source": [
    "# 6. What are the five levels of logging?\n"
   ]
  },
  {
   "cell_type": "markdown",
   "id": "a9e810c3",
   "metadata": {},
   "source": [
    "DEBUG, INFO, WARNING, ERROR, and CRITICAL"
   ]
  },
  {
   "cell_type": "markdown",
   "id": "85d95dd2",
   "metadata": {},
   "source": [
    "# 7. What line of code would you add to your software to disable all logging messages?\n"
   ]
  },
  {
   "cell_type": "markdown",
   "id": "f3dfc1d3",
   "metadata": {},
   "source": [
    "logging.disable(logging.CRITICAL)"
   ]
  },
  {
   "cell_type": "markdown",
   "id": "94c47f51",
   "metadata": {},
   "source": [
    "# 8.Why is using logging messages better than using print() to display the same message?\n"
   ]
  },
  {
   "cell_type": "markdown",
   "id": "d414f240",
   "metadata": {},
   "source": [
    "You can disable logging messages without removing the logging function calls. You can selectively disable lower-level logging messages. \n",
    "You can create logging messages. \n",
    "Logging messages provides a timestamp."
   ]
  },
  {
   "cell_type": "markdown",
   "id": "f60d5393",
   "metadata": {},
   "source": [
    "# 9. What are the differences between the Step Over, Step In, and Step Out buttons in the debugger?"
   ]
  },
  {
   "cell_type": "markdown",
   "id": "1640d842",
   "metadata": {},
   "source": [
    "The Step In button will move the debugger into a function call. The Step Over button will quickly execute the function call without stepping into it. The Step Out button will quickly execute the rest of the code until it steps out of the function it currently is in."
   ]
  },
  {
   "cell_type": "markdown",
   "id": "f4192d17",
   "metadata": {},
   "source": [
    "# 10.After you click Continue, when will the debugger stop ?"
   ]
  },
  {
   "cell_type": "markdown",
   "id": "291cf88f",
   "metadata": {},
   "source": [
    " After you click Continue, the debugger will stop when it has reached the end of the program or a line with a breakpoint."
   ]
  },
  {
   "cell_type": "markdown",
   "id": "05fd22e6",
   "metadata": {},
   "source": [
    "# 11. What is the concept of a breakpoint?"
   ]
  },
  {
   "cell_type": "markdown",
   "id": "f36dd2b4",
   "metadata": {},
   "source": [
    "A breakpoint is a setting on a line of code that causes the debugger to pause when the program execution reaches the line."
   ]
  },
  {
   "cell_type": "code",
   "execution_count": null,
   "id": "51417544",
   "metadata": {},
   "outputs": [],
   "source": []
  }
 ],
 "metadata": {
  "kernelspec": {
   "display_name": "Python 3",
   "language": "python",
   "name": "python3"
  },
  "language_info": {
   "codemirror_mode": {
    "name": "ipython",
    "version": 3
   },
   "file_extension": ".py",
   "mimetype": "text/x-python",
   "name": "python",
   "nbconvert_exporter": "python",
   "pygments_lexer": "ipython3",
   "version": "3.8.8"
  }
 },
 "nbformat": 4,
 "nbformat_minor": 5
}
