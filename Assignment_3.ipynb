{
 "cells": [
  {
   "cell_type": "markdown",
   "id": "04865ca2",
   "metadata": {},
   "source": [
    "# Assignment_3\n"
   ]
  },
  {
   "cell_type": "markdown",
   "id": "7a7238ee",
   "metadata": {},
   "source": [
    "# 1. Why are functions advantageous to have in your programs?\n"
   ]
  },
  {
   "cell_type": "markdown",
   "id": "226a3def",
   "metadata": {},
   "source": [
    "Functions reduce the need for duplicate code. \n",
    "This makes programs shorter, easier to read, and easier to update.\n"
   ]
  },
  {
   "cell_type": "markdown",
   "id": "5d8f479b",
   "metadata": {},
   "source": [
    "# 2. When does the code in a function run: when it's specified or when it's called?\n"
   ]
  },
  {
   "cell_type": "markdown",
   "id": "8a511965",
   "metadata": {},
   "source": [
    "The code in a function executes when the function is called, not when the function is defined.\n"
   ]
  },
  {
   "cell_type": "markdown",
   "id": "ca60e5b0",
   "metadata": {},
   "source": [
    "# 3. What statement creates a function?\n"
   ]
  },
  {
   "cell_type": "markdown",
   "id": "86c5784b",
   "metadata": {},
   "source": [
    "The def statement defines (that is, creates) a function.\n"
   ]
  },
  {
   "cell_type": "markdown",
   "id": "3f8a151b",
   "metadata": {},
   "source": [
    "# 4. What is the difference between a function and a function call?\n"
   ]
  },
  {
   "cell_type": "markdown",
   "id": "7a8c313a",
   "metadata": {},
   "source": [
    "A function consists of the def statement and the code in its def clause.\n",
    "\n",
    "A function call is what moves the program execution into the function, and the function call evaluates to the function’s return value.\n",
    "\n"
   ]
  },
  {
   "cell_type": "markdown",
   "id": "29bac0bf",
   "metadata": {},
   "source": [
    "# 5. How many global scopes are there in a Python program? How many local scopes?\n"
   ]
  },
  {
   "cell_type": "markdown",
   "id": "6072c972",
   "metadata": {},
   "source": [
    "There is one global scope, and a local scope is created whenever a function is called.\n"
   ]
  },
  {
   "cell_type": "markdown",
   "id": "d054b8d6",
   "metadata": {},
   "source": [
    "# 6. What happens to variables in a local scope when the function call returns?\n"
   ]
  },
  {
   "cell_type": "markdown",
   "id": "5d69a0b2",
   "metadata": {},
   "source": [
    "When a function returns, the local scope is destroyed, and all the variables in it are forgotten.\n"
   ]
  },
  {
   "cell_type": "markdown",
   "id": "82b7e8d8",
   "metadata": {},
   "source": [
    "# 7. What is the concept of a return value? Is it possible to have a return value in an expression?\n"
   ]
  },
  {
   "cell_type": "markdown",
   "id": "2c13cd14",
   "metadata": {},
   "source": [
    "A return value is the value that a function call evaluates to. \n",
    "Like any value, a return value can be used as part of an expression.\n"
   ]
  },
  {
   "cell_type": "markdown",
   "id": "d9d8273b",
   "metadata": {},
   "source": [
    "# 8. If a function does not have a return statement, what is the return value of a call to that function?\n"
   ]
  },
  {
   "cell_type": "markdown",
   "id": "b7627e59",
   "metadata": {},
   "source": [
    "If there is no return statement for a function, its return value is None.\n"
   ]
  },
  {
   "cell_type": "markdown",
   "id": "e878243f",
   "metadata": {},
   "source": [
    "# 9. How do you make a function variable refer to the global variable?\n"
   ]
  },
  {
   "cell_type": "markdown",
   "id": "26adefb3",
   "metadata": {},
   "source": [
    "A global statement will force a variable in a function to refer to the global variable.\n"
   ]
  },
  {
   "cell_type": "markdown",
   "id": "6a34fcb1",
   "metadata": {},
   "source": [
    "# 10. What is the data type of None?\n"
   ]
  },
  {
   "cell_type": "markdown",
   "id": "d64e1eb9",
   "metadata": {},
   "source": [
    "The data type of None is NoneType.\n",
    "\n"
   ]
  },
  {
   "cell_type": "markdown",
   "id": "dbfdd345",
   "metadata": {},
   "source": [
    "# 11. What does the sentence import areallyourpetsnamederic do?\n"
   ]
  },
  {
   "cell_type": "markdown",
   "id": "2f9bfeb7",
   "metadata": {},
   "source": [
    "That import statement imports a module named areallyourpetsnamederic. \n"
   ]
  },
  {
   "cell_type": "markdown",
   "id": "3a281575",
   "metadata": {},
   "source": [
    "# 12. If you had a bacon() feature in a spam module, what would you call it after importing spam?\n"
   ]
  },
  {
   "cell_type": "markdown",
   "id": "5a3908be",
   "metadata": {},
   "source": [
    "This function can be called with spam.bacon().\n"
   ]
  },
  {
   "cell_type": "markdown",
   "id": "c62e7ef4",
   "metadata": {},
   "source": [
    "# 13. What can you do to save a programme from crashing if it encounters an error?\n"
   ]
  },
  {
   "cell_type": "markdown",
   "id": "38959c91",
   "metadata": {},
   "source": [
    "Place the line of code that might cause an error in a try clause.\n"
   ]
  },
  {
   "cell_type": "markdown",
   "id": "7460c095",
   "metadata": {},
   "source": [
    "# 14. What is the purpose of the try clause? What is the purpose of the except clause?\n"
   ]
  },
  {
   "cell_type": "markdown",
   "id": "c72766ea",
   "metadata": {},
   "source": [
    "The code that could potentially cause an error goes in the try clause.\n",
    "\n",
    "The code that executes if an error happens goes in the except clause."
   ]
  }
 ],
 "metadata": {
  "kernelspec": {
   "display_name": "Python 3",
   "language": "python",
   "name": "python3"
  },
  "language_info": {
   "codemirror_mode": {
    "name": "ipython",
    "version": 3
   },
   "file_extension": ".py",
   "mimetype": "text/x-python",
   "name": "python",
   "nbconvert_exporter": "python",
   "pygments_lexer": "ipython3",
   "version": "3.8.8"
  }
 },
 "nbformat": 4,
 "nbformat_minor": 5
}
